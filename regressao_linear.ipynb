{
 "cells": [
  {
   "cell_type": "code",
   "execution_count": 1,
   "metadata": {},
   "outputs": [],
   "source": [
    "import numpy as np"
   ]
  },
  {
   "cell_type": "code",
   "execution_count": 10,
   "metadata": {},
   "outputs": [],
   "source": [
    "# Função para gerar a função target\n",
    "def generate_target_function():\n",
    "    points = np.random.uniform(-1, 1, (2, 2))\n",
    "    a = points[1, 1] - points[0, 1]\n",
    "    b = points[0, 0] - points[1, 0]\n",
    "    c = points[1, 0] * points[0, 1] - points[0, 0] * points[1, 1]\n",
    "    return a, b, c\n",
    "\n",
    "# Função target\n",
    "def target_function(a, b, c, x):\n",
    "    return np.sign(a * x[:, 0] + b * x[:, 1] + c)\n",
    "\n",
    "# Gerar dados\n",
    "def generate_data(N, a, b, c):\n",
    "    X = np.random.uniform(-1, 1, (N, 2))\n",
    "    y = target_function(a, b, c, X)\n",
    "    return X, y\n",
    "\n",
    "\n",
    "# Regressão Linear\n",
    "def linear_regression(X, y):\n",
    "    X_b = np.c_[np.ones((X.shape[0], 1)), X]  # Adicionar x0 = 1 para cada instância\n",
    "    w = np.linalg.pinv(X_b.T.dot(X_b)).dot(X_b.T).dot(y)  # w = (X_b^T * X_b)^-1 * X_b^T * y\n",
    "    return w\n"
   ]
  },
  {
   "cell_type": "code",
   "execution_count": 16,
   "metadata": {},
   "outputs": [],
   "source": [
    "# Calcular E_in\n",
    "def calculate_error(X, y, w):\n",
    "    X_b = np.c_[np.ones((X.shape[0], 1)), X]\n",
    "    predictions = np.sign(X_b.dot(w))\n",
    "    return np.mean(predictions != y)\n"
   ]
  },
  {
   "cell_type": "code",
   "execution_count": 27,
   "metadata": {},
   "outputs": [],
   "source": [
    "# PLA\n",
    "def pla(X, y, w):\n",
    "    X_b = np.c_[np.ones((X.shape[0], 1)), X]\n",
    "    iterations = 0\n",
    "    while True:\n",
    "        predictions = np.sign(X_b.dot(w))\n",
    "        misclassified = np.where(predictions != y)[0]\n",
    "        if len(misclassified) == 0:\n",
    "            break\n",
    "        idx = np.random.choice(misclassified)\n",
    "        w += y[idx] * X_b[idx]\n",
    "        iterations += 1\n",
    "    return iterations"
   ]
  },
  {
   "cell_type": "code",
   "execution_count": 29,
   "metadata": {},
   "outputs": [],
   "source": [
    "# Experimento\n",
    "def experiment_rg(num_runs, num_points_train, num_points_test):\n",
    "    ein_list = []\n",
    "    eout_list = []\n",
    "\n",
    "    for _ in range(num_runs):\n",
    "        a, b, c = generate_target_function()\n",
    "        X_train, y_train = generate_data(num_points_train, a, b, c)\n",
    "        w = linear_regression(X_train, y_train)\n",
    "        ein = calculate_error(X_train, y_train, w)\n",
    "        ein_list.append(ein)\n",
    "\n",
    "        # Gerar novos pontos de teste\n",
    "        X_test, y_test = generate_data(num_points_test, a, b, c)\n",
    "        eout = calculate_error(X_test, y_test, w)\n",
    "        eout_list.append(eout)\n",
    "\n",
    "    return np.mean(ein_list), np.std(ein_list), np.mean(eout_list), np.std(eout_list)\n",
    "\n",
    "\n",
    "# Experimento\n",
    "def experiment_rg_pla(num_runs, num_points_train):\n",
    "    iterations_list = []\n",
    "\n",
    "    for _ in range(num_runs):\n",
    "        a, b, c = generate_target_function()\n",
    "        X_train, y_train = generate_data(num_points_train, a, b, c)\n",
    "        w = linear_regression(X_train, y_train)\n",
    "        iterations = pla(X_train, y_train, w)\n",
    "        iterations_list.append(iterations)\n",
    "\n",
    "    return np.mean(iterations_list), np.std(iterations_list)"
   ]
  },
  {
   "cell_type": "code",
   "execution_count": 20,
   "metadata": {},
   "outputs": [
    {
     "name": "stdout",
     "output_type": "stream",
     "text": [
      "Média de E_in: 0.039540000000000006\n",
      "Desvio padrão de E_in: 0.030799162326271147\n",
      "Média de E_out: 0.04873\n",
      "Desvio padrão de E_out: 0.03260860469262676\n"
     ]
    }
   ],
   "source": [
    "# Parâmetros\n",
    "num_runs = 1000\n",
    "num_points_train = 100\n",
    "num_points_test = 1000\n",
    "\n",
    "# Executar o experimento\n",
    "mean_ein, std_ein, mean_eout, std_eout = experiment_rg(num_runs, num_points_train, num_points_test)\n",
    "print(f\"Média de E_in: {mean_ein}\")\n",
    "print(f\"Desvio padrão de E_in: {std_ein}\")\n",
    "print(f\"Média de E_out: {mean_eout}\")\n",
    "print(f\"Desvio padrão de E_out: {std_eout}\")"
   ]
  },
  {
   "cell_type": "code",
   "execution_count": 31,
   "metadata": {},
   "outputs": [
    {
     "name": "stdout",
     "output_type": "stream",
     "text": [
      "Média de iterações até a convergência do PLA: 3.587\n",
      "Desvio padrão de iterações: 11.37050706872829\n"
     ]
    }
   ],
   "source": [
    "# Parâmetros\n",
    "num_runs = 1000\n",
    "num_points_train = 10\n",
    "\n",
    "# Executar o experimento\n",
    "mean_iterations, std_iterations = experiment_rg_pla(num_runs, num_points_train)\n",
    "print(f\"Média de iterações até a convergência do PLA: {mean_iterations}\")\n",
    "print(f\"Desvio padrão de iterações: {std_iterations}\")"
   ]
  }
 ],
 "metadata": {
  "kernelspec": {
   "display_name": "Python 3",
   "language": "python",
   "name": "python3"
  },
  "language_info": {
   "codemirror_mode": {
    "name": "ipython",
    "version": 3
   },
   "file_extension": ".py",
   "mimetype": "text/x-python",
   "name": "python",
   "nbconvert_exporter": "python",
   "pygments_lexer": "ipython3",
   "version": "3.10.3"
  },
  "orig_nbformat": 4
 },
 "nbformat": 4,
 "nbformat_minor": 2
}
